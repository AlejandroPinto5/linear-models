{
  "nbformat": 4,
  "nbformat_minor": 0,
  "metadata": {
    "colab": {
      "provenance": [],
      "authorship_tag": "ABX9TyMEb6Qd9iumUKfNYKwsDGKr",
      "include_colab_link": true
    },
    "kernelspec": {
      "name": "python3",
      "display_name": "Python 3"
    },
    "language_info": {
      "name": "python"
    }
  },
  "cells": [
    {
      "cell_type": "markdown",
      "metadata": {
        "id": "view-in-github",
        "colab_type": "text"
      },
      "source": [
        "<a href=\"https://colab.research.google.com/github/AlejandroPinto5/linear-regression-model/blob/main/linear_regressaion.ipynb\" target=\"_parent\"><img src=\"https://colab.research.google.com/assets/colab-badge.svg\" alt=\"Open In Colab\"/></a>"
      ]
    },
    {
      "cell_type": "markdown",
      "source": [
        "#**Linear Regression model**"
      ],
      "metadata": {
        "id": "44lXTFsluZp-"
      }
    },
    {
      "cell_type": "markdown",
      "source": [
        "Here, it is implemented a linear regression model to predict sales of a particular product at a particular outlet. The dataset is previosly cleaned."
      ],
      "metadata": {
        "id": "G-utMFt7uwa6"
      }
    },
    {
      "cell_type": "code",
      "execution_count": null,
      "metadata": {
        "id": "LZkuT99YtWew"
      },
      "outputs": [],
      "source": [
        "#Importin libraries\n",
        "import pandas as ps\n",
        "import numpy as np\n",
        "import matplotlib.pyplot as plt"
      ]
    },
    {
      "cell_type": "code",
      "source": [
        "#Importing data\n",
        "url = raw-url\n",
        "df = pd.read(raw-url)\n",
        "df"
      ],
      "metadata": {
        "id": "4lPCDvjrvQ-O"
      },
      "execution_count": null,
      "outputs": []
    },
    {
      "cell_type": "code",
      "source": [
        "#Separating dependent and independent variables\n",
        "x = df.drop(['Item_Outlet_Sales'], axis = 1)\n",
        "y = df['Item_Outlet_Sales']"
      ],
      "metadata": {
        "id": "7FNcpOnevrHg"
      },
      "execution_count": null,
      "outputs": []
    },
    {
      "cell_type": "code",
      "source": [
        "#Splitting train and test set\n",
        "from sklearn.model_selection import train_test_split\n",
        "train_x, test_x, train_y, test_y = train_test_split(x, y, random_state = 56)"
      ],
      "metadata": {
        "id": "0WpgTeFcwGn4"
      },
      "execution_count": null,
      "outputs": []
    },
    {
      "cell_type": "code",
      "source": [
        "#Implementing linear regression\n",
        "from sklearn.linear_model import LinearRegression as LR\n",
        "from sklearn.metrics import mean_absolute_error as mae\n",
        "\n",
        "lr = LR()\n",
        "lr.fit(train_x, train_y) #Fitting \n",
        "train_predict = lr.predict(train_x) #Predicting over train set\n",
        "k_train = mae(train_predict, train_y) #Calculating error\n",
        "print('Train mean absolute error: ', k_train)"
      ],
      "metadata": {
        "id": "FpOA4qgZwhFo"
      },
      "execution_count": null,
      "outputs": []
    },
    {
      "cell_type": "code",
      "source": [
        "#Predicting over test set\n",
        "test_predict = lr.predict(test_x)\n",
        "k_test = mae(test_predict, test_y)  #Calculating error\n",
        "print('test mean absolute error: ', k_test)"
      ],
      "metadata": {
        "id": "gXMZAcySyfiR"
      },
      "execution_count": null,
      "outputs": []
    },
    {
      "cell_type": "code",
      "source": [
        "#Plotrting coefficients\n",
        "lr.coef_\n",
        "\n",
        "plt.figure(figze = (8,6), dpi = 120, facecolor = 'w', edgecolor = 'b')\n",
        "x = range(len(train_x.columns))\n",
        "y = lr.coef_\n",
        "plt.bar(x,y)\n",
        "plt.xlabel('Variables')\n",
        "plt.ylabel('Coefficients')\n",
        "plt.title('Coefficient plot')"
      ],
      "metadata": {
        "id": "1-dlXSuiy_5w"
      },
      "execution_count": null,
      "outputs": []
    },
    {
      "cell_type": "markdown",
      "source": [
        "**Conclusion:** the mdoel depends upon some independet variables too much, but these coefficients aren't suitable for interperetation becasue these aren't scaled, therefore, it can do with MinMaxScaler or StandardScaler"
      ],
      "metadata": {
        "id": "FTFVI8mj0NcB"
      }
    }
  ]
}