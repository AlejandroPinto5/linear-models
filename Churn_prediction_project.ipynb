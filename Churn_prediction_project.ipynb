{
  "nbformat": 4,
  "nbformat_minor": 0,
  "metadata": {
    "colab": {
      "provenance": [],
      "include_colab_link": true
    },
    "kernelspec": {
      "name": "python3",
      "display_name": "Python 3"
    },
    "language_info": {
      "name": "python"
    }
  },
  "cells": [
    {
      "cell_type": "markdown",
      "metadata": {
        "id": "view-in-github",
        "colab_type": "text"
      },
      "source": [
        "<a href=\"https://colab.research.google.com/github/AlejandroPinto5/linear-models/blob/main/Churn_prediction_project.ipynb\" target=\"_parent\"><img src=\"https://colab.research.google.com/assets/colab-badge.svg\" alt=\"Open In Colab\"/></a>"
      ]
    },
    {
      "cell_type": "markdown",
      "source": [
        "#**Churn Prediction using Logistic Regression Project**\n"
      ],
      "metadata": {
        "id": "pZzeiDtcRndG"
      }
    },
    {
      "cell_type": "markdown",
      "source": [
        "Predicting Whether a Customer Will Churn or Not. The target outcome which it wants to predict is churn. Churn is defined as as the costumer falling below the minimum value required.\n",
        "\n",
        "    1. Load data and package for model building and preprocessing.\n",
        "    2.  Preprocessing and missing value imputation.\n",
        "    3. Select features on the basis  of EDA conclusions and build baseline problem.\n",
        "    4. Decide evaluation metric on the basis of bussiness problem.\n",
        "    5. Build model using all features and compare with baseline.\n",
        "    6. Use reverse feautre elimination to find the top feature and build model using top 10 features and compare."
      ],
      "metadata": {
        "id": "dfr-4XsOR5ZD"
      }
    },
    {
      "cell_type": "code",
      "execution_count": 19,
      "metadata": {
        "id": "tp9IWL_8RjNi"
      },
      "outputs": [],
      "source": [
        "#Importing packages\n",
        "import numpy as np\n",
        "import pandas as pd\n",
        "import matplotlib.pyplot as plt\n",
        "import seaborn as sb\n",
        "from sklearn.preprocessing import LabelEncoder\n",
        "from sklearn.preprocessing import StandardScaler\n",
        "from sklearn.linear_model import LogisticRegression\n",
        "from sklearn.model_selection import KFold, StratifiedKFold, train_test_split\n",
        "from sklearn.metrics import roc_auc_score, accuracy_score, confusion_matrix, roc_curve, precision_score, recall_score, precision_recall_curve\n",
        "import warnings\n",
        "\n",
        "warnings.simplefilter(action = 'ignore', category = FutureWarning)\n",
        "warnings.simplefilter(action = 'ignore', category = UserWarning)"
      ]
    },
    {
      "cell_type": "code",
      "source": [
        "#Loading dataset\n",
        "url = 'https://raw.githubusercontent.com/AlejandroPinto5/linear-models/main/churn_prediction.csv'\n",
        "df = pd.read_csv(url)\n",
        "df.head()"
      ],
      "metadata": {
        "colab": {
          "base_uri": "https://localhost:8080/",
          "height": 300
        },
        "id": "Tngi1fTgXl6i",
        "outputId": "1840a489-8583-4812-b4ee-64972efd99fa"
      },
      "execution_count": 2,
      "outputs": [
        {
          "output_type": "execute_result",
          "data": {
            "text/plain": [
              "   customer_id  vintage  age gender  dependents     occupation    city  \\\n",
              "0            1     3135   66   Male         0.0  self_employed   187.0   \n",
              "1            2      310   35   Male         0.0  self_employed     NaN   \n",
              "2            4     2356   31   Male         0.0       salaried   146.0   \n",
              "3            5      478   90    NaN         NaN  self_employed  1020.0   \n",
              "4            6     2531   42   Male         2.0  self_employed  1494.0   \n",
              "\n",
              "   customer_nw_category  branch_code  days_since_last_transaction  ...  \\\n",
              "0                     2          755                        224.0  ...   \n",
              "1                     2         3214                         60.0  ...   \n",
              "2                     2           41                          NaN  ...   \n",
              "3                     2          582                        147.0  ...   \n",
              "4                     3          388                         58.0  ...   \n",
              "\n",
              "   previous_month_end_balance  average_monthly_balance_prevQ  \\\n",
              "0                     1458.71                        1458.71   \n",
              "1                     8704.66                        7799.26   \n",
              "2                     5815.29                        4910.17   \n",
              "3                     2291.91                        2084.54   \n",
              "4                     1401.72                        1643.31   \n",
              "\n",
              "   average_monthly_balance_prevQ2  current_month_credit  \\\n",
              "0                         1449.07                  0.20   \n",
              "1                        12419.41                  0.56   \n",
              "2                         2815.94                  0.61   \n",
              "3                         1006.54                  0.47   \n",
              "4                         1871.12                  0.33   \n",
              "\n",
              "   previous_month_credit  current_month_debit  previous_month_debit  \\\n",
              "0                   0.20                 0.20                  0.20   \n",
              "1                   0.56              5486.27                100.56   \n",
              "2                   0.61              6046.73                259.23   \n",
              "3                   0.47                 0.47               2143.33   \n",
              "4                 714.61               588.62               1538.06   \n",
              "\n",
              "   current_month_balance  previous_month_balance  churn  \n",
              "0                1458.71                 1458.71      0  \n",
              "1                6496.78                 8787.61      0  \n",
              "2                5006.28                 5070.14      0  \n",
              "3                2291.91                 1669.79      1  \n",
              "4                1157.15                 1677.16      1  \n",
              "\n",
              "[5 rows x 21 columns]"
            ],
            "text/html": [
              "\n",
              "  <div id=\"df-9412d9b0-aacf-428c-bb3b-c5445363042f\">\n",
              "    <div class=\"colab-df-container\">\n",
              "      <div>\n",
              "<style scoped>\n",
              "    .dataframe tbody tr th:only-of-type {\n",
              "        vertical-align: middle;\n",
              "    }\n",
              "\n",
              "    .dataframe tbody tr th {\n",
              "        vertical-align: top;\n",
              "    }\n",
              "\n",
              "    .dataframe thead th {\n",
              "        text-align: right;\n",
              "    }\n",
              "</style>\n",
              "<table border=\"1\" class=\"dataframe\">\n",
              "  <thead>\n",
              "    <tr style=\"text-align: right;\">\n",
              "      <th></th>\n",
              "      <th>customer_id</th>\n",
              "      <th>vintage</th>\n",
              "      <th>age</th>\n",
              "      <th>gender</th>\n",
              "      <th>dependents</th>\n",
              "      <th>occupation</th>\n",
              "      <th>city</th>\n",
              "      <th>customer_nw_category</th>\n",
              "      <th>branch_code</th>\n",
              "      <th>days_since_last_transaction</th>\n",
              "      <th>...</th>\n",
              "      <th>previous_month_end_balance</th>\n",
              "      <th>average_monthly_balance_prevQ</th>\n",
              "      <th>average_monthly_balance_prevQ2</th>\n",
              "      <th>current_month_credit</th>\n",
              "      <th>previous_month_credit</th>\n",
              "      <th>current_month_debit</th>\n",
              "      <th>previous_month_debit</th>\n",
              "      <th>current_month_balance</th>\n",
              "      <th>previous_month_balance</th>\n",
              "      <th>churn</th>\n",
              "    </tr>\n",
              "  </thead>\n",
              "  <tbody>\n",
              "    <tr>\n",
              "      <th>0</th>\n",
              "      <td>1</td>\n",
              "      <td>3135</td>\n",
              "      <td>66</td>\n",
              "      <td>Male</td>\n",
              "      <td>0.0</td>\n",
              "      <td>self_employed</td>\n",
              "      <td>187.0</td>\n",
              "      <td>2</td>\n",
              "      <td>755</td>\n",
              "      <td>224.0</td>\n",
              "      <td>...</td>\n",
              "      <td>1458.71</td>\n",
              "      <td>1458.71</td>\n",
              "      <td>1449.07</td>\n",
              "      <td>0.20</td>\n",
              "      <td>0.20</td>\n",
              "      <td>0.20</td>\n",
              "      <td>0.20</td>\n",
              "      <td>1458.71</td>\n",
              "      <td>1458.71</td>\n",
              "      <td>0</td>\n",
              "    </tr>\n",
              "    <tr>\n",
              "      <th>1</th>\n",
              "      <td>2</td>\n",
              "      <td>310</td>\n",
              "      <td>35</td>\n",
              "      <td>Male</td>\n",
              "      <td>0.0</td>\n",
              "      <td>self_employed</td>\n",
              "      <td>NaN</td>\n",
              "      <td>2</td>\n",
              "      <td>3214</td>\n",
              "      <td>60.0</td>\n",
              "      <td>...</td>\n",
              "      <td>8704.66</td>\n",
              "      <td>7799.26</td>\n",
              "      <td>12419.41</td>\n",
              "      <td>0.56</td>\n",
              "      <td>0.56</td>\n",
              "      <td>5486.27</td>\n",
              "      <td>100.56</td>\n",
              "      <td>6496.78</td>\n",
              "      <td>8787.61</td>\n",
              "      <td>0</td>\n",
              "    </tr>\n",
              "    <tr>\n",
              "      <th>2</th>\n",
              "      <td>4</td>\n",
              "      <td>2356</td>\n",
              "      <td>31</td>\n",
              "      <td>Male</td>\n",
              "      <td>0.0</td>\n",
              "      <td>salaried</td>\n",
              "      <td>146.0</td>\n",
              "      <td>2</td>\n",
              "      <td>41</td>\n",
              "      <td>NaN</td>\n",
              "      <td>...</td>\n",
              "      <td>5815.29</td>\n",
              "      <td>4910.17</td>\n",
              "      <td>2815.94</td>\n",
              "      <td>0.61</td>\n",
              "      <td>0.61</td>\n",
              "      <td>6046.73</td>\n",
              "      <td>259.23</td>\n",
              "      <td>5006.28</td>\n",
              "      <td>5070.14</td>\n",
              "      <td>0</td>\n",
              "    </tr>\n",
              "    <tr>\n",
              "      <th>3</th>\n",
              "      <td>5</td>\n",
              "      <td>478</td>\n",
              "      <td>90</td>\n",
              "      <td>NaN</td>\n",
              "      <td>NaN</td>\n",
              "      <td>self_employed</td>\n",
              "      <td>1020.0</td>\n",
              "      <td>2</td>\n",
              "      <td>582</td>\n",
              "      <td>147.0</td>\n",
              "      <td>...</td>\n",
              "      <td>2291.91</td>\n",
              "      <td>2084.54</td>\n",
              "      <td>1006.54</td>\n",
              "      <td>0.47</td>\n",
              "      <td>0.47</td>\n",
              "      <td>0.47</td>\n",
              "      <td>2143.33</td>\n",
              "      <td>2291.91</td>\n",
              "      <td>1669.79</td>\n",
              "      <td>1</td>\n",
              "    </tr>\n",
              "    <tr>\n",
              "      <th>4</th>\n",
              "      <td>6</td>\n",
              "      <td>2531</td>\n",
              "      <td>42</td>\n",
              "      <td>Male</td>\n",
              "      <td>2.0</td>\n",
              "      <td>self_employed</td>\n",
              "      <td>1494.0</td>\n",
              "      <td>3</td>\n",
              "      <td>388</td>\n",
              "      <td>58.0</td>\n",
              "      <td>...</td>\n",
              "      <td>1401.72</td>\n",
              "      <td>1643.31</td>\n",
              "      <td>1871.12</td>\n",
              "      <td>0.33</td>\n",
              "      <td>714.61</td>\n",
              "      <td>588.62</td>\n",
              "      <td>1538.06</td>\n",
              "      <td>1157.15</td>\n",
              "      <td>1677.16</td>\n",
              "      <td>1</td>\n",
              "    </tr>\n",
              "  </tbody>\n",
              "</table>\n",
              "<p>5 rows × 21 columns</p>\n",
              "</div>\n",
              "      <button class=\"colab-df-convert\" onclick=\"convertToInteractive('df-9412d9b0-aacf-428c-bb3b-c5445363042f')\"\n",
              "              title=\"Convert this dataframe to an interactive table.\"\n",
              "              style=\"display:none;\">\n",
              "        \n",
              "  <svg xmlns=\"http://www.w3.org/2000/svg\" height=\"24px\"viewBox=\"0 0 24 24\"\n",
              "       width=\"24px\">\n",
              "    <path d=\"M0 0h24v24H0V0z\" fill=\"none\"/>\n",
              "    <path d=\"M18.56 5.44l.94 2.06.94-2.06 2.06-.94-2.06-.94-.94-2.06-.94 2.06-2.06.94zm-11 1L8.5 8.5l.94-2.06 2.06-.94-2.06-.94L8.5 2.5l-.94 2.06-2.06.94zm10 10l.94 2.06.94-2.06 2.06-.94-2.06-.94-.94-2.06-.94 2.06-2.06.94z\"/><path d=\"M17.41 7.96l-1.37-1.37c-.4-.4-.92-.59-1.43-.59-.52 0-1.04.2-1.43.59L10.3 9.45l-7.72 7.72c-.78.78-.78 2.05 0 2.83L4 21.41c.39.39.9.59 1.41.59.51 0 1.02-.2 1.41-.59l7.78-7.78 2.81-2.81c.8-.78.8-2.07 0-2.86zM5.41 20L4 18.59l7.72-7.72 1.47 1.35L5.41 20z\"/>\n",
              "  </svg>\n",
              "      </button>\n",
              "      \n",
              "  <style>\n",
              "    .colab-df-container {\n",
              "      display:flex;\n",
              "      flex-wrap:wrap;\n",
              "      gap: 12px;\n",
              "    }\n",
              "\n",
              "    .colab-df-convert {\n",
              "      background-color: #E8F0FE;\n",
              "      border: none;\n",
              "      border-radius: 50%;\n",
              "      cursor: pointer;\n",
              "      display: none;\n",
              "      fill: #1967D2;\n",
              "      height: 32px;\n",
              "      padding: 0 0 0 0;\n",
              "      width: 32px;\n",
              "    }\n",
              "\n",
              "    .colab-df-convert:hover {\n",
              "      background-color: #E2EBFA;\n",
              "      box-shadow: 0px 1px 2px rgba(60, 64, 67, 0.3), 0px 1px 3px 1px rgba(60, 64, 67, 0.15);\n",
              "      fill: #174EA6;\n",
              "    }\n",
              "\n",
              "    [theme=dark] .colab-df-convert {\n",
              "      background-color: #3B4455;\n",
              "      fill: #D2E3FC;\n",
              "    }\n",
              "\n",
              "    [theme=dark] .colab-df-convert:hover {\n",
              "      background-color: #434B5C;\n",
              "      box-shadow: 0px 1px 3px 1px rgba(0, 0, 0, 0.15);\n",
              "      filter: drop-shadow(0px 1px 2px rgba(0, 0, 0, 0.3));\n",
              "      fill: #FFFFFF;\n",
              "    }\n",
              "  </style>\n",
              "\n",
              "      <script>\n",
              "        const buttonEl =\n",
              "          document.querySelector('#df-9412d9b0-aacf-428c-bb3b-c5445363042f button.colab-df-convert');\n",
              "        buttonEl.style.display =\n",
              "          google.colab.kernel.accessAllowed ? 'block' : 'none';\n",
              "\n",
              "        async function convertToInteractive(key) {\n",
              "          const element = document.querySelector('#df-9412d9b0-aacf-428c-bb3b-c5445363042f');\n",
              "          const dataTable =\n",
              "            await google.colab.kernel.invokeFunction('convertToInteractive',\n",
              "                                                     [key], {});\n",
              "          if (!dataTable) return;\n",
              "\n",
              "          const docLinkHtml = 'Like what you see? Visit the ' +\n",
              "            '<a target=\"_blank\" href=https://colab.research.google.com/notebooks/data_table.ipynb>data table notebook</a>'\n",
              "            + ' to learn more about interactive tables.';\n",
              "          element.innerHTML = '';\n",
              "          dataTable['output_type'] = 'display_data';\n",
              "          await google.colab.output.renderOutput(dataTable, element);\n",
              "          const docLink = document.createElement('div');\n",
              "          docLink.innerHTML = docLinkHtml;\n",
              "          element.appendChild(docLink);\n",
              "        }\n",
              "      </script>\n",
              "    </div>\n",
              "  </div>\n",
              "  "
            ]
          },
          "metadata": {},
          "execution_count": 2
        }
      ]
    },
    {
      "cell_type": "markdown",
      "source": [
        "##DEALING WITH MISSING VALUES"
      ],
      "metadata": {
        "id": "3DuDGP-qYQZ4"
      }
    },
    {
      "cell_type": "code",
      "source": [
        "#Checking for NaN values\n",
        "df.isnull().sum()"
      ],
      "metadata": {
        "colab": {
          "base_uri": "https://localhost:8080/"
        },
        "id": "hF9Ah6K2YNQJ",
        "outputId": "02567573-d4c7-4eeb-b9fe-d2a56d00b74c"
      },
      "execution_count": 3,
      "outputs": [
        {
          "output_type": "execute_result",
          "data": {
            "text/plain": [
              "customer_id                          0\n",
              "vintage                              0\n",
              "age                                  0\n",
              "gender                             525\n",
              "dependents                        2463\n",
              "occupation                          80\n",
              "city                               803\n",
              "customer_nw_category                 0\n",
              "branch_code                          0\n",
              "days_since_last_transaction       3223\n",
              "current_balance                      0\n",
              "previous_month_end_balance           0\n",
              "average_monthly_balance_prevQ        0\n",
              "average_monthly_balance_prevQ2       0\n",
              "current_month_credit                 0\n",
              "previous_month_credit                0\n",
              "current_month_debit                  0\n",
              "previous_month_debit                 0\n",
              "current_month_balance                0\n",
              "previous_month_balance               0\n",
              "churn                                0\n",
              "dtype: int64"
            ]
          },
          "metadata": {},
          "execution_count": 3
        }
      ]
    },
    {
      "cell_type": "markdown",
      "source": [
        "There are missing values on gender, dependets, occupation, city, days_since_last_transaction. Each variable has an imputation strategy:"
      ],
      "metadata": {
        "id": "VX2Afki6YqRC"
      }
    },
    {
      "cell_type": "markdown",
      "source": [
        "**Gender**"
      ],
      "metadata": {
        "id": "zB-FlrWZZST5"
      }
    },
    {
      "cell_type": "code",
      "source": [
        "#Checking value countsof gender\n",
        "df['gender'].value_counts()"
      ],
      "metadata": {
        "colab": {
          "base_uri": "https://localhost:8080/"
        },
        "id": "AQq9VFlSYhpC",
        "outputId": "9e24a6ba-c307-4b43-9e64-aae42c1f11fe"
      },
      "execution_count": 4,
      "outputs": [
        {
          "output_type": "execute_result",
          "data": {
            "text/plain": [
              "Male      16548\n",
              "Female    11309\n",
              "Name: gender, dtype: int64"
            ]
          },
          "metadata": {},
          "execution_count": 4
        }
      ]
    },
    {
      "cell_type": "markdown",
      "source": [
        "It can't add male or female to missing values, it could create another category with -1 value:"
      ],
      "metadata": {
        "id": "y3ypnL5eZ1nk"
      }
    },
    {
      "cell_type": "code",
      "source": [
        "#Converting gender\n",
        "dict_gender = {'Male' : 1, 'Female' : 0}\n",
        "df.replace({'gender' : dict_gender}, inplace = True)\n",
        "df['gender'] = df['gender'].fillna(-1)\n",
        "df.head()"
      ],
      "metadata": {
        "colab": {
          "base_uri": "https://localhost:8080/",
          "height": 300
        },
        "id": "3TeYJbToZ1Ym",
        "outputId": "10c42f37-013d-4e87-8d2b-e12120bcfda3"
      },
      "execution_count": 5,
      "outputs": [
        {
          "output_type": "execute_result",
          "data": {
            "text/plain": [
              "   customer_id  vintage  age  gender  dependents     occupation    city  \\\n",
              "0            1     3135   66     1.0         0.0  self_employed   187.0   \n",
              "1            2      310   35     1.0         0.0  self_employed     NaN   \n",
              "2            4     2356   31     1.0         0.0       salaried   146.0   \n",
              "3            5      478   90    -1.0         NaN  self_employed  1020.0   \n",
              "4            6     2531   42     1.0         2.0  self_employed  1494.0   \n",
              "\n",
              "   customer_nw_category  branch_code  days_since_last_transaction  ...  \\\n",
              "0                     2          755                        224.0  ...   \n",
              "1                     2         3214                         60.0  ...   \n",
              "2                     2           41                          NaN  ...   \n",
              "3                     2          582                        147.0  ...   \n",
              "4                     3          388                         58.0  ...   \n",
              "\n",
              "   previous_month_end_balance  average_monthly_balance_prevQ  \\\n",
              "0                     1458.71                        1458.71   \n",
              "1                     8704.66                        7799.26   \n",
              "2                     5815.29                        4910.17   \n",
              "3                     2291.91                        2084.54   \n",
              "4                     1401.72                        1643.31   \n",
              "\n",
              "   average_monthly_balance_prevQ2  current_month_credit  \\\n",
              "0                         1449.07                  0.20   \n",
              "1                        12419.41                  0.56   \n",
              "2                         2815.94                  0.61   \n",
              "3                         1006.54                  0.47   \n",
              "4                         1871.12                  0.33   \n",
              "\n",
              "   previous_month_credit  current_month_debit  previous_month_debit  \\\n",
              "0                   0.20                 0.20                  0.20   \n",
              "1                   0.56              5486.27                100.56   \n",
              "2                   0.61              6046.73                259.23   \n",
              "3                   0.47                 0.47               2143.33   \n",
              "4                 714.61               588.62               1538.06   \n",
              "\n",
              "   current_month_balance  previous_month_balance  churn  \n",
              "0                1458.71                 1458.71      0  \n",
              "1                6496.78                 8787.61      0  \n",
              "2                5006.28                 5070.14      0  \n",
              "3                2291.91                 1669.79      1  \n",
              "4                1157.15                 1677.16      1  \n",
              "\n",
              "[5 rows x 21 columns]"
            ],
            "text/html": [
              "\n",
              "  <div id=\"df-6d883d76-177b-4e2a-8d20-23ac8a85cd79\">\n",
              "    <div class=\"colab-df-container\">\n",
              "      <div>\n",
              "<style scoped>\n",
              "    .dataframe tbody tr th:only-of-type {\n",
              "        vertical-align: middle;\n",
              "    }\n",
              "\n",
              "    .dataframe tbody tr th {\n",
              "        vertical-align: top;\n",
              "    }\n",
              "\n",
              "    .dataframe thead th {\n",
              "        text-align: right;\n",
              "    }\n",
              "</style>\n",
              "<table border=\"1\" class=\"dataframe\">\n",
              "  <thead>\n",
              "    <tr style=\"text-align: right;\">\n",
              "      <th></th>\n",
              "      <th>customer_id</th>\n",
              "      <th>vintage</th>\n",
              "      <th>age</th>\n",
              "      <th>gender</th>\n",
              "      <th>dependents</th>\n",
              "      <th>occupation</th>\n",
              "      <th>city</th>\n",
              "      <th>customer_nw_category</th>\n",
              "      <th>branch_code</th>\n",
              "      <th>days_since_last_transaction</th>\n",
              "      <th>...</th>\n",
              "      <th>previous_month_end_balance</th>\n",
              "      <th>average_monthly_balance_prevQ</th>\n",
              "      <th>average_monthly_balance_prevQ2</th>\n",
              "      <th>current_month_credit</th>\n",
              "      <th>previous_month_credit</th>\n",
              "      <th>current_month_debit</th>\n",
              "      <th>previous_month_debit</th>\n",
              "      <th>current_month_balance</th>\n",
              "      <th>previous_month_balance</th>\n",
              "      <th>churn</th>\n",
              "    </tr>\n",
              "  </thead>\n",
              "  <tbody>\n",
              "    <tr>\n",
              "      <th>0</th>\n",
              "      <td>1</td>\n",
              "      <td>3135</td>\n",
              "      <td>66</td>\n",
              "      <td>1.0</td>\n",
              "      <td>0.0</td>\n",
              "      <td>self_employed</td>\n",
              "      <td>187.0</td>\n",
              "      <td>2</td>\n",
              "      <td>755</td>\n",
              "      <td>224.0</td>\n",
              "      <td>...</td>\n",
              "      <td>1458.71</td>\n",
              "      <td>1458.71</td>\n",
              "      <td>1449.07</td>\n",
              "      <td>0.20</td>\n",
              "      <td>0.20</td>\n",
              "      <td>0.20</td>\n",
              "      <td>0.20</td>\n",
              "      <td>1458.71</td>\n",
              "      <td>1458.71</td>\n",
              "      <td>0</td>\n",
              "    </tr>\n",
              "    <tr>\n",
              "      <th>1</th>\n",
              "      <td>2</td>\n",
              "      <td>310</td>\n",
              "      <td>35</td>\n",
              "      <td>1.0</td>\n",
              "      <td>0.0</td>\n",
              "      <td>self_employed</td>\n",
              "      <td>NaN</td>\n",
              "      <td>2</td>\n",
              "      <td>3214</td>\n",
              "      <td>60.0</td>\n",
              "      <td>...</td>\n",
              "      <td>8704.66</td>\n",
              "      <td>7799.26</td>\n",
              "      <td>12419.41</td>\n",
              "      <td>0.56</td>\n",
              "      <td>0.56</td>\n",
              "      <td>5486.27</td>\n",
              "      <td>100.56</td>\n",
              "      <td>6496.78</td>\n",
              "      <td>8787.61</td>\n",
              "      <td>0</td>\n",
              "    </tr>\n",
              "    <tr>\n",
              "      <th>2</th>\n",
              "      <td>4</td>\n",
              "      <td>2356</td>\n",
              "      <td>31</td>\n",
              "      <td>1.0</td>\n",
              "      <td>0.0</td>\n",
              "      <td>salaried</td>\n",
              "      <td>146.0</td>\n",
              "      <td>2</td>\n",
              "      <td>41</td>\n",
              "      <td>NaN</td>\n",
              "      <td>...</td>\n",
              "      <td>5815.29</td>\n",
              "      <td>4910.17</td>\n",
              "      <td>2815.94</td>\n",
              "      <td>0.61</td>\n",
              "      <td>0.61</td>\n",
              "      <td>6046.73</td>\n",
              "      <td>259.23</td>\n",
              "      <td>5006.28</td>\n",
              "      <td>5070.14</td>\n",
              "      <td>0</td>\n",
              "    </tr>\n",
              "    <tr>\n",
              "      <th>3</th>\n",
              "      <td>5</td>\n",
              "      <td>478</td>\n",
              "      <td>90</td>\n",
              "      <td>-1.0</td>\n",
              "      <td>NaN</td>\n",
              "      <td>self_employed</td>\n",
              "      <td>1020.0</td>\n",
              "      <td>2</td>\n",
              "      <td>582</td>\n",
              "      <td>147.0</td>\n",
              "      <td>...</td>\n",
              "      <td>2291.91</td>\n",
              "      <td>2084.54</td>\n",
              "      <td>1006.54</td>\n",
              "      <td>0.47</td>\n",
              "      <td>0.47</td>\n",
              "      <td>0.47</td>\n",
              "      <td>2143.33</td>\n",
              "      <td>2291.91</td>\n",
              "      <td>1669.79</td>\n",
              "      <td>1</td>\n",
              "    </tr>\n",
              "    <tr>\n",
              "      <th>4</th>\n",
              "      <td>6</td>\n",
              "      <td>2531</td>\n",
              "      <td>42</td>\n",
              "      <td>1.0</td>\n",
              "      <td>2.0</td>\n",
              "      <td>self_employed</td>\n",
              "      <td>1494.0</td>\n",
              "      <td>3</td>\n",
              "      <td>388</td>\n",
              "      <td>58.0</td>\n",
              "      <td>...</td>\n",
              "      <td>1401.72</td>\n",
              "      <td>1643.31</td>\n",
              "      <td>1871.12</td>\n",
              "      <td>0.33</td>\n",
              "      <td>714.61</td>\n",
              "      <td>588.62</td>\n",
              "      <td>1538.06</td>\n",
              "      <td>1157.15</td>\n",
              "      <td>1677.16</td>\n",
              "      <td>1</td>\n",
              "    </tr>\n",
              "  </tbody>\n",
              "</table>\n",
              "<p>5 rows × 21 columns</p>\n",
              "</div>\n",
              "      <button class=\"colab-df-convert\" onclick=\"convertToInteractive('df-6d883d76-177b-4e2a-8d20-23ac8a85cd79')\"\n",
              "              title=\"Convert this dataframe to an interactive table.\"\n",
              "              style=\"display:none;\">\n",
              "        \n",
              "  <svg xmlns=\"http://www.w3.org/2000/svg\" height=\"24px\"viewBox=\"0 0 24 24\"\n",
              "       width=\"24px\">\n",
              "    <path d=\"M0 0h24v24H0V0z\" fill=\"none\"/>\n",
              "    <path d=\"M18.56 5.44l.94 2.06.94-2.06 2.06-.94-2.06-.94-.94-2.06-.94 2.06-2.06.94zm-11 1L8.5 8.5l.94-2.06 2.06-.94-2.06-.94L8.5 2.5l-.94 2.06-2.06.94zm10 10l.94 2.06.94-2.06 2.06-.94-2.06-.94-.94-2.06-.94 2.06-2.06.94z\"/><path d=\"M17.41 7.96l-1.37-1.37c-.4-.4-.92-.59-1.43-.59-.52 0-1.04.2-1.43.59L10.3 9.45l-7.72 7.72c-.78.78-.78 2.05 0 2.83L4 21.41c.39.39.9.59 1.41.59.51 0 1.02-.2 1.41-.59l7.78-7.78 2.81-2.81c.8-.78.8-2.07 0-2.86zM5.41 20L4 18.59l7.72-7.72 1.47 1.35L5.41 20z\"/>\n",
              "  </svg>\n",
              "      </button>\n",
              "      \n",
              "  <style>\n",
              "    .colab-df-container {\n",
              "      display:flex;\n",
              "      flex-wrap:wrap;\n",
              "      gap: 12px;\n",
              "    }\n",
              "\n",
              "    .colab-df-convert {\n",
              "      background-color: #E8F0FE;\n",
              "      border: none;\n",
              "      border-radius: 50%;\n",
              "      cursor: pointer;\n",
              "      display: none;\n",
              "      fill: #1967D2;\n",
              "      height: 32px;\n",
              "      padding: 0 0 0 0;\n",
              "      width: 32px;\n",
              "    }\n",
              "\n",
              "    .colab-df-convert:hover {\n",
              "      background-color: #E2EBFA;\n",
              "      box-shadow: 0px 1px 2px rgba(60, 64, 67, 0.3), 0px 1px 3px 1px rgba(60, 64, 67, 0.15);\n",
              "      fill: #174EA6;\n",
              "    }\n",
              "\n",
              "    [theme=dark] .colab-df-convert {\n",
              "      background-color: #3B4455;\n",
              "      fill: #D2E3FC;\n",
              "    }\n",
              "\n",
              "    [theme=dark] .colab-df-convert:hover {\n",
              "      background-color: #434B5C;\n",
              "      box-shadow: 0px 1px 3px 1px rgba(0, 0, 0, 0.15);\n",
              "      filter: drop-shadow(0px 1px 2px rgba(0, 0, 0, 0.3));\n",
              "      fill: #FFFFFF;\n",
              "    }\n",
              "  </style>\n",
              "\n",
              "      <script>\n",
              "        const buttonEl =\n",
              "          document.querySelector('#df-6d883d76-177b-4e2a-8d20-23ac8a85cd79 button.colab-df-convert');\n",
              "        buttonEl.style.display =\n",
              "          google.colab.kernel.accessAllowed ? 'block' : 'none';\n",
              "\n",
              "        async function convertToInteractive(key) {\n",
              "          const element = document.querySelector('#df-6d883d76-177b-4e2a-8d20-23ac8a85cd79');\n",
              "          const dataTable =\n",
              "            await google.colab.kernel.invokeFunction('convertToInteractive',\n",
              "                                                     [key], {});\n",
              "          if (!dataTable) return;\n",
              "\n",
              "          const docLinkHtml = 'Like what you see? Visit the ' +\n",
              "            '<a target=\"_blank\" href=https://colab.research.google.com/notebooks/data_table.ipynb>data table notebook</a>'\n",
              "            + ' to learn more about interactive tables.';\n",
              "          element.innerHTML = '';\n",
              "          dataTable['output_type'] = 'display_data';\n",
              "          await google.colab.output.renderOutput(dataTable, element);\n",
              "          const docLink = document.createElement('div');\n",
              "          docLink.innerHTML = docLinkHtml;\n",
              "          element.appendChild(docLink);\n",
              "        }\n",
              "      </script>\n",
              "    </div>\n",
              "  </div>\n",
              "  "
            ]
          },
          "metadata": {},
          "execution_count": 5
        }
      ]
    },
    {
      "cell_type": "markdown",
      "source": [
        "**dependents, occupation and city**\n"
      ],
      "metadata": {
        "id": "s9zyfRJPazGl"
      }
    },
    {
      "cell_type": "code",
      "source": [
        "#Checking value counts to dependets\n",
        "df['dependents'].value_counts()"
      ],
      "metadata": {
        "colab": {
          "base_uri": "https://localhost:8080/"
        },
        "id": "26z9io9TZg3E",
        "outputId": "396c0df9-881b-4825-ce83-455ab60ffba9"
      },
      "execution_count": 6,
      "outputs": [
        {
          "output_type": "execute_result",
          "data": {
            "text/plain": [
              "0.0     21435\n",
              "2.0      2150\n",
              "1.0      1395\n",
              "3.0       701\n",
              "4.0       179\n",
              "5.0        41\n",
              "6.0         8\n",
              "7.0         3\n",
              "9.0         1\n",
              "52.0        1\n",
              "36.0        1\n",
              "50.0        1\n",
              "8.0         1\n",
              "25.0        1\n",
              "32.0        1\n",
              "Name: dependents, dtype: int64"
            ]
          },
          "metadata": {},
          "execution_count": 6
        }
      ]
    },
    {
      "cell_type": "code",
      "source": [
        "#Checking value counts to occupation\n",
        "df['occupation'].value_counts()"
      ],
      "metadata": {
        "colab": {
          "base_uri": "https://localhost:8080/"
        },
        "id": "Knq-87fWbJgx",
        "outputId": "021dbe88-71a5-47cc-e8cc-11b68ee9053a"
      },
      "execution_count": 7,
      "outputs": [
        {
          "output_type": "execute_result",
          "data": {
            "text/plain": [
              "self_employed    17476\n",
              "salaried          6704\n",
              "student           2058\n",
              "retired           2024\n",
              "company             40\n",
              "Name: occupation, dtype: int64"
            ]
          },
          "metadata": {},
          "execution_count": 7
        }
      ]
    },
    {
      "cell_type": "code",
      "source": [
        "#Cheking Value counts to city\n",
        "df['city'].value_counts()"
      ],
      "metadata": {
        "colab": {
          "base_uri": "https://localhost:8080/"
        },
        "id": "0kRMe8hbe5-D",
        "outputId": "dff69552-ee27-42ae-d1ac-c9ec94d02076"
      },
      "execution_count": 8,
      "outputs": [
        {
          "output_type": "execute_result",
          "data": {
            "text/plain": [
              "1020.0    3479\n",
              "1096.0    2016\n",
              "409.0     1334\n",
              "146.0     1291\n",
              "834.0     1138\n",
              "          ... \n",
              "748.0        1\n",
              "1099.0       1\n",
              "108.0        1\n",
              "655.0        1\n",
              "723.0        1\n",
              "Name: city, Length: 1604, dtype: int64"
            ]
          },
          "metadata": {},
          "execution_count": 8
        }
      ]
    },
    {
      "cell_type": "markdown",
      "source": [
        "It can fill missed values with the mode, for dependents is 0, for occupation is self_employed, and for city is 1020"
      ],
      "metadata": {
        "id": "O3aYuAcGcAXV"
      }
    },
    {
      "cell_type": "code",
      "source": [
        "df['dependents'] = df['dependents'].fillna(0)\n",
        "df['occupation'] = df['occupation'].fillna('self_employed')\n",
        "df['city'] = df['city'].fillna(1020)\n",
        "df"
      ],
      "metadata": {
        "colab": {
          "base_uri": "https://localhost:8080/",
          "height": 488
        },
        "id": "ORgy4_owbebI",
        "outputId": "4ae3a74e-de44-44e4-83ac-8a641fbc616a"
      },
      "execution_count": 9,
      "outputs": [
        {
          "output_type": "execute_result",
          "data": {
            "text/plain": [
              "       customer_id  vintage  age  gender  dependents     occupation    city  \\\n",
              "0                1     3135   66     1.0         0.0  self_employed   187.0   \n",
              "1                2      310   35     1.0         0.0  self_employed  1020.0   \n",
              "2                4     2356   31     1.0         0.0       salaried   146.0   \n",
              "3                5      478   90    -1.0         0.0  self_employed  1020.0   \n",
              "4                6     2531   42     1.0         2.0  self_employed  1494.0   \n",
              "...            ...      ...  ...     ...         ...            ...     ...   \n",
              "28377        30297     1845   10     0.0         0.0        student  1020.0   \n",
              "28378        30298     4919   34     0.0         0.0  self_employed  1046.0   \n",
              "28379        30299      297   47     1.0         0.0       salaried  1096.0   \n",
              "28380        30300     2585   50     1.0         3.0  self_employed  1219.0   \n",
              "28381        30301     2349   18     1.0         0.0        student  1232.0   \n",
              "\n",
              "       customer_nw_category  branch_code  days_since_last_transaction  ...  \\\n",
              "0                         2          755                        224.0  ...   \n",
              "1                         2         3214                         60.0  ...   \n",
              "2                         2           41                          NaN  ...   \n",
              "3                         2          582                        147.0  ...   \n",
              "4                         3          388                         58.0  ...   \n",
              "...                     ...          ...                          ...  ...   \n",
              "28377                     2         1207                         70.0  ...   \n",
              "28378                     2          223                         14.0  ...   \n",
              "28379                     2          588                          0.0  ...   \n",
              "28380                     3          274                          NaN  ...   \n",
              "28381                     2          474                         59.0  ...   \n",
              "\n",
              "       previous_month_end_balance  average_monthly_balance_prevQ  \\\n",
              "0                         1458.71                        1458.71   \n",
              "1                         8704.66                        7799.26   \n",
              "2                         5815.29                        4910.17   \n",
              "3                         2291.91                        2084.54   \n",
              "4                         1401.72                        1643.31   \n",
              "...                           ...                            ...   \n",
              "28377                     1076.43                        2282.19   \n",
              "28378                     4069.21                        3668.83   \n",
              "28379                    61017.55                       53444.81   \n",
              "28380                     1625.55                        1683.20   \n",
              "28381                     2821.34                        3213.44   \n",
              "\n",
              "       average_monthly_balance_prevQ2  current_month_credit  \\\n",
              "0                             1449.07                  0.20   \n",
              "1                            12419.41                  0.56   \n",
              "2                             2815.94                  0.61   \n",
              "3                             1006.54                  0.47   \n",
              "4                             1871.12                  0.33   \n",
              "...                               ...                   ...   \n",
              "28377                         2787.70                  0.30   \n",
              "28378                         3865.55                  1.71   \n",
              "28379                        21925.81               4666.84   \n",
              "28380                         1857.42                  0.20   \n",
              "28381                         4447.45                  0.11   \n",
              "\n",
              "       previous_month_credit  current_month_debit  previous_month_debit  \\\n",
              "0                       0.20                 0.20                  0.20   \n",
              "1                       0.56              5486.27                100.56   \n",
              "2                       0.61              6046.73                259.23   \n",
              "3                       0.47                 0.47               2143.33   \n",
              "4                     714.61               588.62               1538.06   \n",
              "...                      ...                  ...                   ...   \n",
              "28377                   0.30                 0.30                  0.30   \n",
              "28378                   2.29               901.00               1014.07   \n",
              "28379                3883.06               168.23                 71.80   \n",
              "28380                   0.20                 0.20                  0.20   \n",
              "28381                   7.44               714.40               1094.09   \n",
              "\n",
              "       current_month_balance  previous_month_balance  churn  \n",
              "0                    1458.71                 1458.71      0  \n",
              "1                    6496.78                 8787.61      0  \n",
              "2                    5006.28                 5070.14      0  \n",
              "3                    2291.91                 1669.79      1  \n",
              "4                    1157.15                 1677.16      1  \n",
              "...                      ...                     ...    ...  \n",
              "28377                1076.43                 1076.43      0  \n",
              "28378                3738.54                 3690.32      0  \n",
              "28379               61078.50                57564.24      1  \n",
              "28380                1625.55                 1625.55      0  \n",
              "28381                2402.62                 3260.58      1  \n",
              "\n",
              "[28382 rows x 21 columns]"
            ],
            "text/html": [
              "\n",
              "  <div id=\"df-98f90d58-0f1f-4539-9d72-88bee208788f\">\n",
              "    <div class=\"colab-df-container\">\n",
              "      <div>\n",
              "<style scoped>\n",
              "    .dataframe tbody tr th:only-of-type {\n",
              "        vertical-align: middle;\n",
              "    }\n",
              "\n",
              "    .dataframe tbody tr th {\n",
              "        vertical-align: top;\n",
              "    }\n",
              "\n",
              "    .dataframe thead th {\n",
              "        text-align: right;\n",
              "    }\n",
              "</style>\n",
              "<table border=\"1\" class=\"dataframe\">\n",
              "  <thead>\n",
              "    <tr style=\"text-align: right;\">\n",
              "      <th></th>\n",
              "      <th>customer_id</th>\n",
              "      <th>vintage</th>\n",
              "      <th>age</th>\n",
              "      <th>gender</th>\n",
              "      <th>dependents</th>\n",
              "      <th>occupation</th>\n",
              "      <th>city</th>\n",
              "      <th>customer_nw_category</th>\n",
              "      <th>branch_code</th>\n",
              "      <th>days_since_last_transaction</th>\n",
              "      <th>...</th>\n",
              "      <th>previous_month_end_balance</th>\n",
              "      <th>average_monthly_balance_prevQ</th>\n",
              "      <th>average_monthly_balance_prevQ2</th>\n",
              "      <th>current_month_credit</th>\n",
              "      <th>previous_month_credit</th>\n",
              "      <th>current_month_debit</th>\n",
              "      <th>previous_month_debit</th>\n",
              "      <th>current_month_balance</th>\n",
              "      <th>previous_month_balance</th>\n",
              "      <th>churn</th>\n",
              "    </tr>\n",
              "  </thead>\n",
              "  <tbody>\n",
              "    <tr>\n",
              "      <th>0</th>\n",
              "      <td>1</td>\n",
              "      <td>3135</td>\n",
              "      <td>66</td>\n",
              "      <td>1.0</td>\n",
              "      <td>0.0</td>\n",
              "      <td>self_employed</td>\n",
              "      <td>187.0</td>\n",
              "      <td>2</td>\n",
              "      <td>755</td>\n",
              "      <td>224.0</td>\n",
              "      <td>...</td>\n",
              "      <td>1458.71</td>\n",
              "      <td>1458.71</td>\n",
              "      <td>1449.07</td>\n",
              "      <td>0.20</td>\n",
              "      <td>0.20</td>\n",
              "      <td>0.20</td>\n",
              "      <td>0.20</td>\n",
              "      <td>1458.71</td>\n",
              "      <td>1458.71</td>\n",
              "      <td>0</td>\n",
              "    </tr>\n",
              "    <tr>\n",
              "      <th>1</th>\n",
              "      <td>2</td>\n",
              "      <td>310</td>\n",
              "      <td>35</td>\n",
              "      <td>1.0</td>\n",
              "      <td>0.0</td>\n",
              "      <td>self_employed</td>\n",
              "      <td>1020.0</td>\n",
              "      <td>2</td>\n",
              "      <td>3214</td>\n",
              "      <td>60.0</td>\n",
              "      <td>...</td>\n",
              "      <td>8704.66</td>\n",
              "      <td>7799.26</td>\n",
              "      <td>12419.41</td>\n",
              "      <td>0.56</td>\n",
              "      <td>0.56</td>\n",
              "      <td>5486.27</td>\n",
              "      <td>100.56</td>\n",
              "      <td>6496.78</td>\n",
              "      <td>8787.61</td>\n",
              "      <td>0</td>\n",
              "    </tr>\n",
              "    <tr>\n",
              "      <th>2</th>\n",
              "      <td>4</td>\n",
              "      <td>2356</td>\n",
              "      <td>31</td>\n",
              "      <td>1.0</td>\n",
              "      <td>0.0</td>\n",
              "      <td>salaried</td>\n",
              "      <td>146.0</td>\n",
              "      <td>2</td>\n",
              "      <td>41</td>\n",
              "      <td>NaN</td>\n",
              "      <td>...</td>\n",
              "      <td>5815.29</td>\n",
              "      <td>4910.17</td>\n",
              "      <td>2815.94</td>\n",
              "      <td>0.61</td>\n",
              "      <td>0.61</td>\n",
              "      <td>6046.73</td>\n",
              "      <td>259.23</td>\n",
              "      <td>5006.28</td>\n",
              "      <td>5070.14</td>\n",
              "      <td>0</td>\n",
              "    </tr>\n",
              "    <tr>\n",
              "      <th>3</th>\n",
              "      <td>5</td>\n",
              "      <td>478</td>\n",
              "      <td>90</td>\n",
              "      <td>-1.0</td>\n",
              "      <td>0.0</td>\n",
              "      <td>self_employed</td>\n",
              "      <td>1020.0</td>\n",
              "      <td>2</td>\n",
              "      <td>582</td>\n",
              "      <td>147.0</td>\n",
              "      <td>...</td>\n",
              "      <td>2291.91</td>\n",
              "      <td>2084.54</td>\n",
              "      <td>1006.54</td>\n",
              "      <td>0.47</td>\n",
              "      <td>0.47</td>\n",
              "      <td>0.47</td>\n",
              "      <td>2143.33</td>\n",
              "      <td>2291.91</td>\n",
              "      <td>1669.79</td>\n",
              "      <td>1</td>\n",
              "    </tr>\n",
              "    <tr>\n",
              "      <th>4</th>\n",
              "      <td>6</td>\n",
              "      <td>2531</td>\n",
              "      <td>42</td>\n",
              "      <td>1.0</td>\n",
              "      <td>2.0</td>\n",
              "      <td>self_employed</td>\n",
              "      <td>1494.0</td>\n",
              "      <td>3</td>\n",
              "      <td>388</td>\n",
              "      <td>58.0</td>\n",
              "      <td>...</td>\n",
              "      <td>1401.72</td>\n",
              "      <td>1643.31</td>\n",
              "      <td>1871.12</td>\n",
              "      <td>0.33</td>\n",
              "      <td>714.61</td>\n",
              "      <td>588.62</td>\n",
              "      <td>1538.06</td>\n",
              "      <td>1157.15</td>\n",
              "      <td>1677.16</td>\n",
              "      <td>1</td>\n",
              "    </tr>\n",
              "    <tr>\n",
              "      <th>...</th>\n",
              "      <td>...</td>\n",
              "      <td>...</td>\n",
              "      <td>...</td>\n",
              "      <td>...</td>\n",
              "      <td>...</td>\n",
              "      <td>...</td>\n",
              "      <td>...</td>\n",
              "      <td>...</td>\n",
              "      <td>...</td>\n",
              "      <td>...</td>\n",
              "      <td>...</td>\n",
              "      <td>...</td>\n",
              "      <td>...</td>\n",
              "      <td>...</td>\n",
              "      <td>...</td>\n",
              "      <td>...</td>\n",
              "      <td>...</td>\n",
              "      <td>...</td>\n",
              "      <td>...</td>\n",
              "      <td>...</td>\n",
              "      <td>...</td>\n",
              "    </tr>\n",
              "    <tr>\n",
              "      <th>28377</th>\n",
              "      <td>30297</td>\n",
              "      <td>1845</td>\n",
              "      <td>10</td>\n",
              "      <td>0.0</td>\n",
              "      <td>0.0</td>\n",
              "      <td>student</td>\n",
              "      <td>1020.0</td>\n",
              "      <td>2</td>\n",
              "      <td>1207</td>\n",
              "      <td>70.0</td>\n",
              "      <td>...</td>\n",
              "      <td>1076.43</td>\n",
              "      <td>2282.19</td>\n",
              "      <td>2787.70</td>\n",
              "      <td>0.30</td>\n",
              "      <td>0.30</td>\n",
              "      <td>0.30</td>\n",
              "      <td>0.30</td>\n",
              "      <td>1076.43</td>\n",
              "      <td>1076.43</td>\n",
              "      <td>0</td>\n",
              "    </tr>\n",
              "    <tr>\n",
              "      <th>28378</th>\n",
              "      <td>30298</td>\n",
              "      <td>4919</td>\n",
              "      <td>34</td>\n",
              "      <td>0.0</td>\n",
              "      <td>0.0</td>\n",
              "      <td>self_employed</td>\n",
              "      <td>1046.0</td>\n",
              "      <td>2</td>\n",
              "      <td>223</td>\n",
              "      <td>14.0</td>\n",
              "      <td>...</td>\n",
              "      <td>4069.21</td>\n",
              "      <td>3668.83</td>\n",
              "      <td>3865.55</td>\n",
              "      <td>1.71</td>\n",
              "      <td>2.29</td>\n",
              "      <td>901.00</td>\n",
              "      <td>1014.07</td>\n",
              "      <td>3738.54</td>\n",
              "      <td>3690.32</td>\n",
              "      <td>0</td>\n",
              "    </tr>\n",
              "    <tr>\n",
              "      <th>28379</th>\n",
              "      <td>30299</td>\n",
              "      <td>297</td>\n",
              "      <td>47</td>\n",
              "      <td>1.0</td>\n",
              "      <td>0.0</td>\n",
              "      <td>salaried</td>\n",
              "      <td>1096.0</td>\n",
              "      <td>2</td>\n",
              "      <td>588</td>\n",
              "      <td>0.0</td>\n",
              "      <td>...</td>\n",
              "      <td>61017.55</td>\n",
              "      <td>53444.81</td>\n",
              "      <td>21925.81</td>\n",
              "      <td>4666.84</td>\n",
              "      <td>3883.06</td>\n",
              "      <td>168.23</td>\n",
              "      <td>71.80</td>\n",
              "      <td>61078.50</td>\n",
              "      <td>57564.24</td>\n",
              "      <td>1</td>\n",
              "    </tr>\n",
              "    <tr>\n",
              "      <th>28380</th>\n",
              "      <td>30300</td>\n",
              "      <td>2585</td>\n",
              "      <td>50</td>\n",
              "      <td>1.0</td>\n",
              "      <td>3.0</td>\n",
              "      <td>self_employed</td>\n",
              "      <td>1219.0</td>\n",
              "      <td>3</td>\n",
              "      <td>274</td>\n",
              "      <td>NaN</td>\n",
              "      <td>...</td>\n",
              "      <td>1625.55</td>\n",
              "      <td>1683.20</td>\n",
              "      <td>1857.42</td>\n",
              "      <td>0.20</td>\n",
              "      <td>0.20</td>\n",
              "      <td>0.20</td>\n",
              "      <td>0.20</td>\n",
              "      <td>1625.55</td>\n",
              "      <td>1625.55</td>\n",
              "      <td>0</td>\n",
              "    </tr>\n",
              "    <tr>\n",
              "      <th>28381</th>\n",
              "      <td>30301</td>\n",
              "      <td>2349</td>\n",
              "      <td>18</td>\n",
              "      <td>1.0</td>\n",
              "      <td>0.0</td>\n",
              "      <td>student</td>\n",
              "      <td>1232.0</td>\n",
              "      <td>2</td>\n",
              "      <td>474</td>\n",
              "      <td>59.0</td>\n",
              "      <td>...</td>\n",
              "      <td>2821.34</td>\n",
              "      <td>3213.44</td>\n",
              "      <td>4447.45</td>\n",
              "      <td>0.11</td>\n",
              "      <td>7.44</td>\n",
              "      <td>714.40</td>\n",
              "      <td>1094.09</td>\n",
              "      <td>2402.62</td>\n",
              "      <td>3260.58</td>\n",
              "      <td>1</td>\n",
              "    </tr>\n",
              "  </tbody>\n",
              "</table>\n",
              "<p>28382 rows × 21 columns</p>\n",
              "</div>\n",
              "      <button class=\"colab-df-convert\" onclick=\"convertToInteractive('df-98f90d58-0f1f-4539-9d72-88bee208788f')\"\n",
              "              title=\"Convert this dataframe to an interactive table.\"\n",
              "              style=\"display:none;\">\n",
              "        \n",
              "  <svg xmlns=\"http://www.w3.org/2000/svg\" height=\"24px\"viewBox=\"0 0 24 24\"\n",
              "       width=\"24px\">\n",
              "    <path d=\"M0 0h24v24H0V0z\" fill=\"none\"/>\n",
              "    <path d=\"M18.56 5.44l.94 2.06.94-2.06 2.06-.94-2.06-.94-.94-2.06-.94 2.06-2.06.94zm-11 1L8.5 8.5l.94-2.06 2.06-.94-2.06-.94L8.5 2.5l-.94 2.06-2.06.94zm10 10l.94 2.06.94-2.06 2.06-.94-2.06-.94-.94-2.06-.94 2.06-2.06.94z\"/><path d=\"M17.41 7.96l-1.37-1.37c-.4-.4-.92-.59-1.43-.59-.52 0-1.04.2-1.43.59L10.3 9.45l-7.72 7.72c-.78.78-.78 2.05 0 2.83L4 21.41c.39.39.9.59 1.41.59.51 0 1.02-.2 1.41-.59l7.78-7.78 2.81-2.81c.8-.78.8-2.07 0-2.86zM5.41 20L4 18.59l7.72-7.72 1.47 1.35L5.41 20z\"/>\n",
              "  </svg>\n",
              "      </button>\n",
              "      \n",
              "  <style>\n",
              "    .colab-df-container {\n",
              "      display:flex;\n",
              "      flex-wrap:wrap;\n",
              "      gap: 12px;\n",
              "    }\n",
              "\n",
              "    .colab-df-convert {\n",
              "      background-color: #E8F0FE;\n",
              "      border: none;\n",
              "      border-radius: 50%;\n",
              "      cursor: pointer;\n",
              "      display: none;\n",
              "      fill: #1967D2;\n",
              "      height: 32px;\n",
              "      padding: 0 0 0 0;\n",
              "      width: 32px;\n",
              "    }\n",
              "\n",
              "    .colab-df-convert:hover {\n",
              "      background-color: #E2EBFA;\n",
              "      box-shadow: 0px 1px 2px rgba(60, 64, 67, 0.3), 0px 1px 3px 1px rgba(60, 64, 67, 0.15);\n",
              "      fill: #174EA6;\n",
              "    }\n",
              "\n",
              "    [theme=dark] .colab-df-convert {\n",
              "      background-color: #3B4455;\n",
              "      fill: #D2E3FC;\n",
              "    }\n",
              "\n",
              "    [theme=dark] .colab-df-convert:hover {\n",
              "      background-color: #434B5C;\n",
              "      box-shadow: 0px 1px 3px 1px rgba(0, 0, 0, 0.15);\n",
              "      filter: drop-shadow(0px 1px 2px rgba(0, 0, 0, 0.3));\n",
              "      fill: #FFFFFF;\n",
              "    }\n",
              "  </style>\n",
              "\n",
              "      <script>\n",
              "        const buttonEl =\n",
              "          document.querySelector('#df-98f90d58-0f1f-4539-9d72-88bee208788f button.colab-df-convert');\n",
              "        buttonEl.style.display =\n",
              "          google.colab.kernel.accessAllowed ? 'block' : 'none';\n",
              "\n",
              "        async function convertToInteractive(key) {\n",
              "          const element = document.querySelector('#df-98f90d58-0f1f-4539-9d72-88bee208788f');\n",
              "          const dataTable =\n",
              "            await google.colab.kernel.invokeFunction('convertToInteractive',\n",
              "                                                     [key], {});\n",
              "          if (!dataTable) return;\n",
              "\n",
              "          const docLinkHtml = 'Like what you see? Visit the ' +\n",
              "            '<a target=\"_blank\" href=https://colab.research.google.com/notebooks/data_table.ipynb>data table notebook</a>'\n",
              "            + ' to learn more about interactive tables.';\n",
              "          element.innerHTML = '';\n",
              "          dataTable['output_type'] = 'display_data';\n",
              "          await google.colab.output.renderOutput(dataTable, element);\n",
              "          const docLink = document.createElement('div');\n",
              "          docLink.innerHTML = docLinkHtml;\n",
              "          element.appendChild(docLink);\n",
              "        }\n",
              "      </script>\n",
              "    </div>\n",
              "  </div>\n",
              "  "
            ]
          },
          "metadata": {},
          "execution_count": 9
        }
      ]
    },
    {
      "cell_type": "markdown",
      "source": [
        "**Days since last transaction**"
      ],
      "metadata": {
        "id": "dmYCHcjVfXn5"
      }
    },
    {
      "cell_type": "code",
      "source": [
        "df['days_since_last_transaction'] = df['days_since_last_transaction'].fillna(999)"
      ],
      "metadata": {
        "id": "soX0Ae7achJb"
      },
      "execution_count": 10,
      "outputs": []
    },
    {
      "cell_type": "markdown",
      "source": [
        "The customer who has a missed value would be customer who hasn't any transaction in the last 365 days, so  it put value more than a year."
      ],
      "metadata": {
        "id": "3SdgxDgeg7_h"
      }
    },
    {
      "cell_type": "markdown",
      "source": [
        "##PREPROCESSING OF DATA"
      ],
      "metadata": {
        "id": "F-8b5s91hTEH"
      }
    },
    {
      "cell_type": "markdown",
      "source": [
        "Let's scale data in the right wayto apply linear models. It will keep all features as numeric values:"
      ],
      "metadata": {
        "id": "amUnnt-LidxY"
      }
    },
    {
      "cell_type": "markdown",
      "source": [
        "**Occupation**\n",
        "   \n",
        "    pd.get_dummies()\n",
        "\n",
        "Convert categorical variable into dummy/indicator variables. Each variable is converted in as many 0/1 variables as there are different values."
      ],
      "metadata": {
        "id": "xrhylnetj1PB"
      }
    },
    {
      "cell_type": "code",
      "source": [
        "#Converting occupation to one hot encoded features\n",
        "df = pd.concat([df, pd.get_dummies(df['occupation'], prefix = str('occupation'),prefix_sep = '_')], axis = 1)"
      ],
      "metadata": {
        "id": "egaYZu-bhIxc"
      },
      "execution_count": 11,
      "outputs": []
    },
    {
      "cell_type": "markdown",
      "source": [
        "**Numerical features**"
      ],
      "metadata": {
        "id": "AWqAp7-aj5Ra"
      }
    },
    {
      "cell_type": "code",
      "source": [
        "#Scaling with log transformation and standard scaler\n",
        "num_cols = ['customer_nw_category', 'current_balance', 'previous_month_end_balance', 'average_monthly_balance_prevQ2', 'average_monthly_balance_prevQ', 'current_month_credit', 'previous_month_credit', 'current_month_debit', 'previous_month_debit', 'current_month_balance', 'previous_month_balance']\n",
        "for i in num_cols:\n",
        "  df[i] = np.log(df[i] + 17000)\n",
        "\n",
        "std = StandardScaler()# Scaling with scikitlearn\n",
        "scaled = std.fit_transform(df[num_cols])\n",
        "scaled = pd.DataFrame(scaled, columns = num_cols)"
      ],
      "metadata": {
        "id": "hgcm7iINjNUh"
      },
      "execution_count": 12,
      "outputs": []
    },
    {
      "cell_type": "code",
      "source": [
        "#Dropping columns\n",
        "df_df_og = df.copy()\n",
        "df = df.drop(columns = num_cols, axis = 1)\n",
        "df = df.merge(scaled, left_index = True, right_index = True, how = 'left')\n",
        "\n",
        "y_all = df.churn\n",
        "df = df.drop(['churn', 'customer_id', 'occupation'], axis = 1)"
      ],
      "metadata": {
        "id": "vAd0mgihlGRp"
      },
      "execution_count": 13,
      "outputs": []
    },
    {
      "cell_type": "markdown",
      "source": [
        "##MODEL BUILDINDG AND EVALUATION METRIC"
      ],
      "metadata": {
        "id": "IlWNCRTtmgEI"
      }
    },
    {
      "cell_type": "markdown",
      "source": [
        "It can use two popular metrics: \n",
        "\n",
        "1. ***Recall*** because if falsely marked as churn, it doesn't cost a lot of the bank. In a scenario the bank would only go ahead and check with the customer whether they are comfortable or not. On the other hand, there will be a huge cost if a customer is missed by the bank. So if a customer is likely to churn but the bank misses it, that's going to be a cost for the bank.  \n",
        "2.   AUC-ROC would tell us how good the model is in differeatnig the two classes.\n"
      ],
      "metadata": {
        "id": "Ti-YLgIBmmHy"
      }
    },
    {
      "cell_type": "code",
      "source": [
        "# Baseline columns\n",
        "baseline_cols = ['current_month_debit', 'previous_month_debit', 'current_balance', 'previous_month_end_balance', 'vintage', 'occupation_retired', 'occupation_salaried', 'occupation_self_employed', 'occupation_student']\n",
        "df_baseline = df[baseline_cols]"
      ],
      "metadata": {
        "id": "YFWwJ_xJmck0"
      },
      "execution_count": 14,
      "outputs": []
    },
    {
      "cell_type": "code",
      "source": [
        "#Splitting dataset with sklearn - train_test_split() function\n",
        "xtrain, xtest, ytrain,ytest = train_test_split(df_baseline, y_all, test_size = 1/3, random_state = 11, stratify = y_all)"
      ],
      "metadata": {
        "id": "k532Qp6Oo-08"
      },
      "execution_count": 15,
      "outputs": []
    },
    {
      "cell_type": "code",
      "source": [
        "#Fitting and predicting\n",
        "model = LogisticRegression()\n",
        "model.fit(xtrain, ytrain)\n",
        "pred = model.predict_proba(xtest)[:,1]"
      ],
      "metadata": {
        "id": "vFw2PsyYprBK"
      },
      "execution_count": 16,
      "outputs": []
    },
    {
      "cell_type": "markdown",
      "source": [
        "Where is logistic regression fallinng? It can use AUC-ROC and confusion matrix."
      ],
      "metadata": {
        "id": "C3_eYulAxBzg"
      }
    },
    {
      "cell_type": "code",
      "source": [
        "from sklearn.metrics import roc_curve\n",
        "fpr, tpr, _ = roc_curve(ytest,pred)\n",
        "auc = roc_auc_score(ytest,pred)\n",
        "\n",
        "sb.set()\n",
        "plt.plot(fpr, tpr, label = 'Validation AUC-ROC = ' + str(auc))\n",
        "x = np.linspace(0, 1, 1000)\n",
        "plt.plot(x, x, linestyle = '-')\n",
        "plt.xlabel('False Positive Rate')\n",
        "plt.ylabel('True Positive Rate')\n",
        "plt.legend(loc = 4)"
      ],
      "metadata": {
        "colab": {
          "base_uri": "https://localhost:8080/",
          "height": 475
        },
        "id": "-ZVXZeyHp5aI",
        "outputId": "764979e3-d5f7-42d0-b964-d5b9c213e903"
      },
      "execution_count": 17,
      "outputs": [
        {
          "output_type": "execute_result",
          "data": {
            "text/plain": [
              "<matplotlib.legend.Legend at 0x7fd9bd934160>"
            ]
          },
          "metadata": {},
          "execution_count": 17
        },
        {
          "output_type": "display_data",
          "data": {
            "text/plain": [
              "<Figure size 640x480 with 1 Axes>"
            ],
            "image/png": "[encoded data removed]"
          },
          "metadata": {}
        }
      ]
    },
    {
      "cell_type": "markdown",
      "source": [
        "***Confusion Matrix***"
      ],
      "metadata": {
        "id": "eZur34Xv7RgQ"
      }
    },
    {
      "cell_type": "code",
      "source": [
        "pred_val = model.predict(xtest)\n",
        "label_preds = pred_val\n",
        "\n",
        "cm = confusion_matrix(ytest,label_preds)\n",
        "sb.set()\n",
        "\n",
        "def plot_confusion_matrix(cm, normalized=True, cmap='RdBu'):\n",
        "    plt.figure(figsize=[7, 6])\n",
        "    norm_cm = cm\n",
        "    if normalized:\n",
        "        norm_cm = cm.astype('float') / cm.sum(axis=1)[:, np.newaxis]\n",
        "        sb.heatmap(norm_cm, annot=cm, fmt='g', xticklabels=['Predicted: No','Predicted: Yes'], yticklabels=['Actual: No','Actual: Yes'], cmap=cmap)\n",
        "\n",
        "plot_confusion_matrix(cm, ['No', 'Yes'])"
      ],
      "metadata": {
        "id": "DcfQCQAv7NwT",
        "outputId": "976aa387-71b6-4eca-f0e1-59edc64b4dc3",
        "colab": {
          "base_uri": "https://localhost:8080/",
          "height": 527
        }
      },
      "execution_count": 26,
      "outputs": [
        {
          "output_type": "display_data",
          "data": {
            "text/plain": [
              "<Figure size 700x600 with 2 Axes>"
            ],
            "image/png": "[encoded data removed]"
          },
          "metadata": {}
        }
      ]
    },
    {
      "cell_type": "markdown",
      "source": [
        "***Recall Score***"
      ],
      "metadata": {
        "id": "bCZLogPR9Nmx"
      }
    },
    {
      "cell_type": "code",
      "source": [
        "recall_score(ytest,pred_val)"
      ],
      "metadata": {
        "id": "8MV6Ro8K8gZ6",
        "outputId": "35d91c1c-8f9e-4d78-e691-010b0920e616",
        "colab": {
          "base_uri": "https://localhost:8080/"
        }
      },
      "execution_count": 28,
      "outputs": [
        {
          "output_type": "execute_result",
          "data": {
            "text/plain": [
              "0.11580148317170565"
            ]
          },
          "metadata": {},
          "execution_count": 28
        }
      ]
    },
    {
      "cell_type": "markdown",
      "source": [
        "***Cross Validation***\n",
        "\n",
        "Cross Validation is one of the most important concepts in any type of data modelling. It simply says, try to leave a sample on which you do not train the model and test the model on this sample before finalizing the model.\n",
        "\n",
        "We divide the entire population into k equal samples. Now we train models on k-1 samples and validate on 1 sample. Then, at the second iteration we train the model with a different sample held as validation.\n",
        "\n",
        "In k iterations, we have basically built model on each sample and held each of them as validation. This is a way to reduce the selection bias and reduce the variance in prediction power.\n",
        "\n",
        "Since it builds several models on different subsets of the dataset, we can be more sure of our model performance if we use CV for testing our models."
      ],
      "metadata": {
        "id": "8msXrKImC4ag"
      }
    },
    {
      "cell_type": "code",
      "source": [
        "def cv_score(ml_model, rstate = 12, thres = 0.5, cols = df.columns):\n",
        "    i = 1\n",
        "    cv_scores = []\n",
        "    df1 = df.copy()\n",
        "    df1 = df[cols]\n",
        "    \n",
        "    # 5 Fold cross validation stratified on the basis of target\n",
        "    kf = StratifiedKFold(n_splits=5,random_state=rstate,shuffle=True)\n",
        "    for df_index,test_index in kf.split(df1,y_all):\n",
        "        print('\\n{} of kfold {}'.format(i,kf.n_splits))\n",
        "        xtr,xvl = df1.loc[df_index],df1.loc[test_index]\n",
        "        ytr,yvl = y_all.loc[df_index],y_all.loc[test_index]\n",
        "            \n",
        "        # Define model for fitting on the training set for each fold\n",
        "        model = ml_model\n",
        "        model.fit(xtr, ytr)\n",
        "        pred_probs = model.predict_proba(xvl)\n",
        "        pp = []\n",
        "         \n",
        "        # Use threshold to define the classes based on probability values\n",
        "        for j in pred_probs[:,1]:\n",
        "            if j>thres:\n",
        "                pp.append(1)\n",
        "            else:\n",
        "                pp.append(0)\n",
        "         \n",
        "        # Calculate scores for each fold and print\n",
        "        pred_val = pp\n",
        "        roc_score = roc_auc_score(yvl,pred_probs[:,1])\n",
        "        recall = recall_score(yvl,pred_val)\n",
        "        precision = precision_score(yvl,pred_val)\n",
        "        sufix = \"\"\n",
        "        msg = \"\"\n",
        "        msg += \"ROC AUC Score: {}, Recall Score: {:.4f}, Precision Score: {:.4f} \".format(roc_score, recall,precision)\n",
        "        print(\"{}\".format(msg))\n",
        "         \n",
        "         # Save scores\n",
        "        cv_scores.append(roc_score)\n",
        "        i+=1\n",
        "    return cv_scores"
      ],
      "metadata": {
        "id": "KLI-iGQz9Rhy"
      },
      "execution_count": 29,
      "outputs": []
    },
    {
      "cell_type": "code",
      "source": [
        "baseline_scores = cv_score(LogisticRegression(), cols = baseline_cols)"
      ],
      "metadata": {
        "id": "u-z7pEiiDE3S",
        "outputId": "d7be2c3a-35ca-451b-e17f-a96e2cd82299",
        "colab": {
          "base_uri": "https://localhost:8080/"
        }
      },
      "execution_count": 30,
      "outputs": [
        {
          "output_type": "stream",
          "name": "stdout",
          "text": [
            "\n",
            "1 of kfold 5\n",
            "ROC AUC Score: 0.7644836090843695, Recall Score: 0.0751, Precision Score: 0.5766 \n",
            "\n",
            "2 of kfold 5\n",
            "ROC AUC Score: 0.7805820573425136, Recall Score: 0.0722, Precision Score: 0.6552 \n",
            "\n",
            "3 of kfold 5\n",
            "ROC AUC Score: 0.755325784138303, Recall Score: 0.1350, Precision Score: 0.6455 \n",
            "\n",
            "4 of kfold 5\n",
            "ROC AUC Score: 0.7582064809820148, Recall Score: 0.1169, Precision Score: 0.6508 \n",
            "\n",
            "5 of kfold 5\n",
            "ROC AUC Score: 0.7622577114607865, Recall Score: 0.1112, Precision Score: 0.5821 \n"
          ]
        }
      ]
    },
    {
      "cell_type": "code",
      "source": [
        "# Now let's try using all columns available to check if we get significant improvement\n",
        "all_feat_scores = cv_score(LogisticRegression())"
      ],
      "metadata": {
        "id": "kbBd6TUdDHjP",
        "outputId": "07090687-56b3-4bb3-ff46-da847d504d43",
        "colab": {
          "base_uri": "https://localhost:8080/"
        }
      },
      "execution_count": 31,
      "outputs": [
        {
          "output_type": "stream",
          "name": "stdout",
          "text": [
            "\n",
            "1 of kfold 5\n",
            "ROC AUC Score: 0.7331647312711952, Recall Score: 0.1103, Precision Score: 0.5066 \n",
            "\n",
            "2 of kfold 5\n",
            "ROC AUC Score: 0.7682234097215086, Recall Score: 0.1958, Precision Score: 0.6799 \n",
            "\n",
            "3 of kfold 5\n",
            "ROC AUC Score: 0.7393034111989685, Recall Score: 0.1683, Precision Score: 0.5728 \n",
            "\n",
            "4 of kfold 5\n",
            "ROC AUC Score: 0.7310815122291368, Recall Score: 0.1084, Precision Score: 0.6129 \n",
            "\n",
            "5 of kfold 5\n",
            "ROC AUC Score: 0.7590672158485403, Recall Score: 0.1778, Precision Score: 0.6052 \n"
          ]
        }
      ]
    },
    {
      "cell_type": "markdown",
      "source": [
        "**Conclusion:** There is some improvement in both ROC AUC Scores and Precision/Recall Scores. Now we can try backward selection to select the best subset of features which give the best score."
      ],
      "metadata": {
        "id": "1yqE-opQDVG-"
      }
    },
    {
      "cell_type": "markdown",
      "source": [
        "##Reverse Feature Elimination or Backward Selection\n",
        "\n",
        "We have already built a model using all the features and a separate model using some baseline features. We can try using backward feature elimination to check if we can do better. Let's do that next."
      ],
      "metadata": {
        "id": "J7FbWeVDDexp"
      }
    },
    {
      "cell_type": "code",
      "source": [
        "from sklearn.feature_selection import RFE\n",
        "import matplotlib.pyplot as plt\n",
        "\n",
        "# Create the RFE object and rank each feature\n",
        "model = LogisticRegression()\n",
        "rfe = RFE(estimator=model, n_features_to_select=1, step=1)\n",
        "rfe.fit(df, y_all)"
      ],
      "metadata": {
        "id": "kxCFYPtDDRwH",
        "outputId": "92a09b29-fdaf-450a-8dbf-d686254cbfb7",
        "colab": {
          "base_uri": "https://localhost:8080/",
          "height": 118
        }
      },
      "execution_count": 32,
      "outputs": [
        {
          "output_type": "execute_result",
          "data": {
            "text/plain": [
              "RFE(estimator=LogisticRegression(), n_features_to_select=1)"
            ],
            "text/html": [
              "<style>#sk-container-id-1 {color: black;background-color: white;}#sk-container-id-1 pre{padding: 0;}#sk-container-id-1 div.sk-toggleable {background-color: white;}#sk-container-id-1 label.sk-toggleable__label {cursor: pointer;display: block;width: 100%;margin-bottom: 0;padding: 0.3em;box-sizing: border-box;text-align: center;}#sk-container-id-1 label.sk-toggleable__label-arrow:before {content: \"▸\";float: left;margin-right: 0.25em;color: #696969;}#sk-container-id-1 label.sk-toggleable__label-arrow:hover:before {color: black;}#sk-container-id-1 div.sk-estimator:hover label.sk-toggleable__label-arrow:before {color: black;}#sk-container-id-1 div.sk-toggleable__content {max-height: 0;max-width: 0;overflow: hidden;text-align: left;background-color: #f0f8ff;}#sk-container-id-1 div.sk-toggleable__content pre {margin: 0.2em;color: black;border-radius: 0.25em;background-color: #f0f8ff;}#sk-container-id-1 input.sk-toggleable__control:checked~div.sk-toggleable__content {max-height: 200px;max-width: 100%;overflow: auto;}#sk-container-id-1 input.sk-toggleable__control:checked~label.sk-toggleable__label-arrow:before {content: \"▾\";}#sk-container-id-1 div.sk-estimator input.sk-toggleable__control:checked~label.sk-toggleable__label {background-color: #d4ebff;}#sk-container-id-1 div.sk-label input.sk-toggleable__control:checked~label.sk-toggleable__label {background-color: #d4ebff;}#sk-container-id-1 input.sk-hidden--visually {border: 0;clip: rect(1px 1px 1px 1px);clip: rect(1px, 1px, 1px, 1px);height: 1px;margin: -1px;overflow: hidden;padding: 0;position: absolute;width: 1px;}#sk-container-id-1 div.sk-estimator {font-family: monospace;background-color: #f0f8ff;border: 1px dotted black;border-radius: 0.25em;box-sizing: border-box;margin-bottom: 0.5em;}#sk-container-id-1 div.sk-estimator:hover {background-color: #d4ebff;}#sk-container-id-1 div.sk-parallel-item::after {content: \"\";width: 100%;border-bottom: 1px solid gray;flex-grow: 1;}#sk-container-id-1 div.sk-label:hover label.sk-toggleable__label {background-color: #d4ebff;}#sk-container-id-1 div.sk-serial::before {content: \"\";position: absolute;border-left: 1px solid gray;box-sizing: border-box;top: 0;bottom: 0;left: 50%;z-index: 0;}#sk-container-id-1 div.sk-serial {display: flex;flex-direction: column;align-items: center;background-color: white;padding-right: 0.2em;padding-left: 0.2em;position: relative;}#sk-container-id-1 div.sk-item {position: relative;z-index: 1;}#sk-container-id-1 div.sk-parallel {display: flex;align-items: stretch;justify-content: center;background-color: white;position: relative;}#sk-container-id-1 div.sk-item::before, #sk-container-id-1 div.sk-parallel-item::before {content: \"\";position: absolute;border-left: 1px solid gray;box-sizing: border-box;top: 0;bottom: 0;left: 50%;z-index: -1;}#sk-container-id-1 div.sk-parallel-item {display: flex;flex-direction: column;z-index: 1;position: relative;background-color: white;}#sk-container-id-1 div.sk-parallel-item:first-child::after {align-self: flex-end;width: 50%;}#sk-container-id-1 div.sk-parallel-item:last-child::after {align-self: flex-start;width: 50%;}#sk-container-id-1 div.sk-parallel-item:only-child::after {width: 0;}#sk-container-id-1 div.sk-dashed-wrapped {border: 1px dashed gray;margin: 0 0.4em 0.5em 0.4em;box-sizing: border-box;padding-bottom: 0.4em;background-color: white;}#sk-container-id-1 div.sk-label label {font-family: monospace;font-weight: bold;display: inline-block;line-height: 1.2em;}#sk-container-id-1 div.sk-label-container {text-align: center;}#sk-container-id-1 div.sk-container {/* jupyter's `normalize.less` sets `[hidden] { display: none; }` but bootstrap.min.css set `[hidden] { display: none !important; }` so we also need the `!important` here to be able to override the default hidden behavior on the sphinx rendered scikit-learn.org. See: https://github.com/scikit-learn/scikit-learn/issues/21755 */display: inline-block !important;position: relative;}#sk-container-id-1 div.sk-text-repr-fallback {display: none;}</style><div id=\"sk-container-id-1\" class=\"sk-top-container\"><div class=\"sk-text-repr-fallback\"><pre>RFE(estimator=LogisticRegression(), n_features_to_select=1)</pre><b>In a Jupyter environment, please rerun this cell to show the HTML representation or trust the notebook. <br />On GitHub, the HTML representation is unable to render, please try loading this page with nbviewer.org.</b></div><div class=\"sk-container\" hidden><div class=\"sk-item sk-dashed-wrapped\"><div class=\"sk-label-container\"><div class=\"sk-label sk-toggleable\"><input class=\"sk-toggleable__control sk-hidden--visually\" id=\"sk-estimator-id-1\" type=\"checkbox\" ><label for=\"sk-estimator-id-1\" class=\"sk-toggleable__label sk-toggleable__label-arrow\">RFE</label><div class=\"sk-toggleable__content\"><pre>RFE(estimator=LogisticRegression(), n_features_to_select=1)</pre></div></div></div><div class=\"sk-parallel\"><div class=\"sk-parallel-item\"><div class=\"sk-item\"><div class=\"sk-label-container\"><div class=\"sk-label sk-toggleable\"><input class=\"sk-toggleable__control sk-hidden--visually\" id=\"sk-estimator-id-2\" type=\"checkbox\" ><label for=\"sk-estimator-id-2\" class=\"sk-toggleable__label sk-toggleable__label-arrow\">estimator: LogisticRegression</label><div class=\"sk-toggleable__content\"><pre>LogisticRegression()</pre></div></div></div><div class=\"sk-serial\"><div class=\"sk-item\"><div class=\"sk-estimator sk-toggleable\"><input class=\"sk-toggleable__control sk-hidden--visually\" id=\"sk-estimator-id-3\" type=\"checkbox\" ><label for=\"sk-estimator-id-3\" class=\"sk-toggleable__label sk-toggleable__label-arrow\">LogisticRegression</label><div class=\"sk-toggleable__content\"><pre>LogisticRegression()</pre></div></div></div></div></div></div></div></div></div></div>"
            ]
          },
          "metadata": {},
          "execution_count": 32
        }
      ]
    },
    {
      "cell_type": "code",
      "source": [
        "ranking_df = pd.DataFrame()\n",
        "ranking_df['Feature_name'] = df.columns\n",
        "ranking_df['Rank'] = rfe.ranking_\n",
        "ranked = ranking_df.sort_values(by=['Rank'])\n",
        "ranked"
      ],
      "metadata": {
        "id": "NEGejdK_Dk-9",
        "outputId": "b811dcf8-f052-4768-a584-76aa1e3eeddb",
        "colab": {
          "base_uri": "https://localhost:8080/",
          "height": 771
        }
      },
      "execution_count": 33,
      "outputs": [
        {
          "output_type": "execute_result",
          "data": {
            "text/plain": [
              "                      Feature_name  Rank\n",
              "13                 current_balance     1\n",
              "16   average_monthly_balance_prevQ     2\n",
              "7               occupation_company     3\n",
              "15  average_monthly_balance_prevQ2     4\n",
              "21           current_month_balance     5\n",
              "22          previous_month_balance     6\n",
              "19             current_month_debit     7\n",
              "10        occupation_self_employed     8\n",
              "9              occupation_salaried     9\n",
              "11              occupation_student    10\n",
              "20            previous_month_debit    11\n",
              "17            current_month_credit    12\n",
              "12            customer_nw_category    13\n",
              "2                           gender    14\n",
              "8               occupation_retired    15\n",
              "3                       dependents    16\n",
              "14      previous_month_end_balance    17\n",
              "18           previous_month_credit    18\n",
              "1                              age    19\n",
              "6      days_since_last_transaction    20\n",
              "0                          vintage    21\n",
              "4                             city    22\n",
              "5                      branch_code    23"
            ],
            "text/html": [
              "\n",
              "  <div id=\"df-5926f2ee-3670-4222-bbb7-503a9978fd4d\">\n",
              "    <div class=\"colab-df-container\">\n",
              "      <div>\n",
              "<style scoped>\n",
              "    .dataframe tbody tr th:only-of-type {\n",
              "        vertical-align: middle;\n",
              "    }\n",
              "\n",
              "    .dataframe tbody tr th {\n",
              "        vertical-align: top;\n",
              "    }\n",
              "\n",
              "    .dataframe thead th {\n",
              "        text-align: right;\n",
              "    }\n",
              "</style>\n",
              "<table border=\"1\" class=\"dataframe\">\n",
              "  <thead>\n",
              "    <tr style=\"text-align: right;\">\n",
              "      <th></th>\n",
              "      <th>Feature_name</th>\n",
              "      <th>Rank</th>\n",
              "    </tr>\n",
              "  </thead>\n",
              "  <tbody>\n",
              "    <tr>\n",
              "      <th>13</th>\n",
              "      <td>current_balance</td>\n",
              "      <td>1</td>\n",
              "    </tr>\n",
              "    <tr>\n",
              "      <th>16</th>\n",
              "      <td>average_monthly_balance_prevQ</td>\n",
              "      <td>2</td>\n",
              "    </tr>\n",
              "    <tr>\n",
              "      <th>7</th>\n",
              "      <td>occupation_company</td>\n",
              "      <td>3</td>\n",
              "    </tr>\n",
              "    <tr>\n",
              "      <th>15</th>\n",
              "      <td>average_monthly_balance_prevQ2</td>\n",
              "      <td>4</td>\n",
              "    </tr>\n",
              "    <tr>\n",
              "      <th>21</th>\n",
              "      <td>current_month_balance</td>\n",
              "      <td>5</td>\n",
              "    </tr>\n",
              "    <tr>\n",
              "      <th>22</th>\n",
              "      <td>previous_month_balance</td>\n",
              "      <td>6</td>\n",
              "    </tr>\n",
              "    <tr>\n",
              "      <th>19</th>\n",
              "      <td>current_month_debit</td>\n",
              "      <td>7</td>\n",
              "    </tr>\n",
              "    <tr>\n",
              "      <th>10</th>\n",
              "      <td>occupation_self_employed</td>\n",
              "      <td>8</td>\n",
              "    </tr>\n",
              "    <tr>\n",
              "      <th>9</th>\n",
              "      <td>occupation_salaried</td>\n",
              "      <td>9</td>\n",
              "    </tr>\n",
              "    <tr>\n",
              "      <th>11</th>\n",
              "      <td>occupation_student</td>\n",
              "      <td>10</td>\n",
              "    </tr>\n",
              "    <tr>\n",
              "      <th>20</th>\n",
              "      <td>previous_month_debit</td>\n",
              "      <td>11</td>\n",
              "    </tr>\n",
              "    <tr>\n",
              "      <th>17</th>\n",
              "      <td>current_month_credit</td>\n",
              "      <td>12</td>\n",
              "    </tr>\n",
              "    <tr>\n",
              "      <th>12</th>\n",
              "      <td>customer_nw_category</td>\n",
              "      <td>13</td>\n",
              "    </tr>\n",
              "    <tr>\n",
              "      <th>2</th>\n",
              "      <td>gender</td>\n",
              "      <td>14</td>\n",
              "    </tr>\n",
              "    <tr>\n",
              "      <th>8</th>\n",
              "      <td>occupation_retired</td>\n",
              "      <td>15</td>\n",
              "    </tr>\n",
              "    <tr>\n",
              "      <th>3</th>\n",
              "      <td>dependents</td>\n",
              "      <td>16</td>\n",
              "    </tr>\n",
              "    <tr>\n",
              "      <th>14</th>\n",
              "      <td>previous_month_end_balance</td>\n",
              "      <td>17</td>\n",
              "    </tr>\n",
              "    <tr>\n",
              "      <th>18</th>\n",
              "      <td>previous_month_credit</td>\n",
              "      <td>18</td>\n",
              "    </tr>\n",
              "    <tr>\n",
              "      <th>1</th>\n",
              "      <td>age</td>\n",
              "      <td>19</td>\n",
              "    </tr>\n",
              "    <tr>\n",
              "      <th>6</th>\n",
              "      <td>days_since_last_transaction</td>\n",
              "      <td>20</td>\n",
              "    </tr>\n",
              "    <tr>\n",
              "      <th>0</th>\n",
              "      <td>vintage</td>\n",
              "      <td>21</td>\n",
              "    </tr>\n",
              "    <tr>\n",
              "      <th>4</th>\n",
              "      <td>city</td>\n",
              "      <td>22</td>\n",
              "    </tr>\n",
              "    <tr>\n",
              "      <th>5</th>\n",
              "      <td>branch_code</td>\n",
              "      <td>23</td>\n",
              "    </tr>\n",
              "  </tbody>\n",
              "</table>\n",
              "</div>\n",
              "      <button class=\"colab-df-convert\" onclick=\"convertToInteractive('df-5926f2ee-3670-4222-bbb7-503a9978fd4d')\"\n",
              "              title=\"Convert this dataframe to an interactive table.\"\n",
              "              style=\"display:none;\">\n",
              "        \n",
              "  <svg xmlns=\"http://www.w3.org/2000/svg\" height=\"24px\"viewBox=\"0 0 24 24\"\n",
              "       width=\"24px\">\n",
              "    <path d=\"M0 0h24v24H0V0z\" fill=\"none\"/>\n",
              "    <path d=\"M18.56 5.44l.94 2.06.94-2.06 2.06-.94-2.06-.94-.94-2.06-.94 2.06-2.06.94zm-11 1L8.5 8.5l.94-2.06 2.06-.94-2.06-.94L8.5 2.5l-.94 2.06-2.06.94zm10 10l.94 2.06.94-2.06 2.06-.94-2.06-.94-.94-2.06-.94 2.06-2.06.94z\"/><path d=\"M17.41 7.96l-1.37-1.37c-.4-.4-.92-.59-1.43-.59-.52 0-1.04.2-1.43.59L10.3 9.45l-7.72 7.72c-.78.78-.78 2.05 0 2.83L4 21.41c.39.39.9.59 1.41.59.51 0 1.02-.2 1.41-.59l7.78-7.78 2.81-2.81c.8-.78.8-2.07 0-2.86zM5.41 20L4 18.59l7.72-7.72 1.47 1.35L5.41 20z\"/>\n",
              "  </svg>\n",
              "      </button>\n",
              "      \n",
              "  <style>\n",
              "    .colab-df-container {\n",
              "      display:flex;\n",
              "      flex-wrap:wrap;\n",
              "      gap: 12px;\n",
              "    }\n",
              "\n",
              "    .colab-df-convert {\n",
              "      background-color: #E8F0FE;\n",
              "      border: none;\n",
              "      border-radius: 50%;\n",
              "      cursor: pointer;\n",
              "      display: none;\n",
              "      fill: #1967D2;\n",
              "      height: 32px;\n",
              "      padding: 0 0 0 0;\n",
              "      width: 32px;\n",
              "    }\n",
              "\n",
              "    .colab-df-convert:hover {\n",
              "      background-color: #E2EBFA;\n",
              "      box-shadow: 0px 1px 2px rgba(60, 64, 67, 0.3), 0px 1px 3px 1px rgba(60, 64, 67, 0.15);\n",
              "      fill: #174EA6;\n",
              "    }\n",
              "\n",
              "    [theme=dark] .colab-df-convert {\n",
              "      background-color: #3B4455;\n",
              "      fill: #D2E3FC;\n",
              "    }\n",
              "\n",
              "    [theme=dark] .colab-df-convert:hover {\n",
              "      background-color: #434B5C;\n",
              "      box-shadow: 0px 1px 3px 1px rgba(0, 0, 0, 0.15);\n",
              "      filter: drop-shadow(0px 1px 2px rgba(0, 0, 0, 0.3));\n",
              "      fill: #FFFFFF;\n",
              "    }\n",
              "  </style>\n",
              "\n",
              "      <script>\n",
              "        const buttonEl =\n",
              "          document.querySelector('#df-5926f2ee-3670-4222-bbb7-503a9978fd4d button.colab-df-convert');\n",
              "        buttonEl.style.display =\n",
              "          google.colab.kernel.accessAllowed ? 'block' : 'none';\n",
              "\n",
              "        async function convertToInteractive(key) {\n",
              "          const element = document.querySelector('#df-5926f2ee-3670-4222-bbb7-503a9978fd4d');\n",
              "          const dataTable =\n",
              "            await google.colab.kernel.invokeFunction('convertToInteractive',\n",
              "                                                     [key], {});\n",
              "          if (!dataTable) return;\n",
              "\n",
              "          const docLinkHtml = 'Like what you see? Visit the ' +\n",
              "            '<a target=\"_blank\" href=https://colab.research.google.com/notebooks/data_table.ipynb>data table notebook</a>'\n",
              "            + ' to learn more about interactive tables.';\n",
              "          element.innerHTML = '';\n",
              "          dataTable['output_type'] = 'display_data';\n",
              "          await google.colab.output.renderOutput(dataTable, element);\n",
              "          const docLink = document.createElement('div');\n",
              "          docLink.innerHTML = docLinkHtml;\n",
              "          element.appendChild(docLink);\n",
              "        }\n",
              "      </script>\n",
              "    </div>\n",
              "  </div>\n",
              "  "
            ]
          },
          "metadata": {},
          "execution_count": 33
        }
      ]
    },
    {
      "cell_type": "code",
      "source": [
        "# The balance features are proving to be very important as can be seen from the table. The RFE function can also be used to select features. Lets select the top 10 features from this table and check score.\n",
        "rfe_top_10_scores = cv_score(LogisticRegression(), cols = ranked['Feature_name'][:10].values)"
      ],
      "metadata": {
        "id": "sULBmTZBDrdZ",
        "outputId": "6fc217ca-4873-4f05-da07-d892a2ac1d83",
        "colab": {
          "base_uri": "https://localhost:8080/"
        }
      },
      "execution_count": 34,
      "outputs": [
        {
          "output_type": "stream",
          "name": "stdout",
          "text": [
            "\n",
            "1 of kfold 5\n",
            "ROC AUC Score: 0.7986881101633954, Recall Score: 0.2281, Precision Score: 0.7362 \n",
            "\n",
            "2 of kfold 5\n",
            "ROC AUC Score: 0.8050442914397288, Recall Score: 0.2234, Precision Score: 0.7556 \n",
            "\n",
            "3 of kfold 5\n",
            "ROC AUC Score: 0.7985130070256687, Recall Score: 0.2205, Precision Score: 0.7250 \n",
            "\n",
            "4 of kfold 5\n",
            "ROC AUC Score: 0.7935095616193245, Recall Score: 0.2120, Precision Score: 0.7360 \n",
            "\n",
            "5 of kfold 5\n",
            "ROC AUC Score: 0.7942222838028076, Recall Score: 0.1911, Precision Score: 0.6745 \n"
          ]
        }
      ]
    },
    {
      "cell_type": "markdown",
      "source": [
        "The top 10 features obtained using the reverse feature selection are giving a much better score than any of our earlier attempts. This is the power of feature selection and it especially works well in case of linear models as tree based models are in itself to some extent capable of doing feature selection.\n",
        "\n",
        "The recall score here is quite low. We should play around with the threshold to get a better recall score. AUC ROC depends on the predicted probabilities and is not impacted by the threshold. Let us try 0.2 as threshold which is close to the overall churn rate"
      ],
      "metadata": {
        "id": "GGKR5Ci0D3nS"
      }
    },
    {
      "cell_type": "code",
      "source": [
        "cv_score(LogisticRegression(), cols = ranked['Feature_name'][:10].values, thres=0.14)"
      ],
      "metadata": {
        "id": "cv1AAfs_D1FT",
        "outputId": "8ad6e9ac-7430-4152-8c60-359ab74a49d6",
        "colab": {
          "base_uri": "https://localhost:8080/"
        }
      },
      "execution_count": 35,
      "outputs": [
        {
          "output_type": "stream",
          "name": "stdout",
          "text": [
            "\n",
            "1 of kfold 5\n",
            "ROC AUC Score: 0.7986881101633954, Recall Score: 0.8308, Precision Score: 0.2836 \n",
            "\n",
            "2 of kfold 5\n",
            "ROC AUC Score: 0.8050442914397288, Recall Score: 0.8375, Precision Score: 0.2902 \n",
            "\n",
            "3 of kfold 5\n",
            "ROC AUC Score: 0.7985130070256687, Recall Score: 0.8279, Precision Score: 0.2897 \n",
            "\n",
            "4 of kfold 5\n",
            "ROC AUC Score: 0.7935095616193245, Recall Score: 0.8213, Precision Score: 0.2840 \n",
            "\n",
            "5 of kfold 5\n",
            "ROC AUC Score: 0.7942222838028076, Recall Score: 0.8108, Precision Score: 0.2927 \n"
          ]
        },
        {
          "output_type": "execute_result",
          "data": {
            "text/plain": [
              "[0.7986881101633954,\n",
              " 0.8050442914397288,\n",
              " 0.7985130070256687,\n",
              " 0.7935095616193245,\n",
              " 0.7942222838028076]"
            ]
          },
          "metadata": {},
          "execution_count": 35
        }
      ]
    },
    {
      "cell_type": "markdown",
      "source": [
        "**Conclusion:** We observe that there is continuous improvement in the Recall Score. However, clearly precision score is going down. On the basis of business requirement the bank can take a call on deciding the threshold. Without knowing the metrics relevant to the business, our best course of action is to optimize for AUC ROC Score so as to find the best probabilites here."
      ],
      "metadata": {
        "id": "_mbcK7pZD-hD"
      }
    },
    {
      "cell_type": "markdown",
      "source": [
        "## Comparison of Different model fold wise\n",
        "\n",
        "Let us visualise the cross validation scores for each fold for the following 3 models and observe differences:\n",
        "* Baseline Model\n",
        "* Model based on all features\n",
        "* Model based on top 10 features obtained from RFE"
      ],
      "metadata": {
        "id": "XCO4fewIECGg"
      }
    },
    {
      "cell_type": "code",
      "source": [
        "results_df = pd.DataFrame({'baseline':baseline_scores, 'all_feats': all_feat_scores, 'rfe_top_10': rfe_top_10_scores})\n",
        "results_df.plot(y=[\"baseline\", \"all_feats\", \"rfe_top_10\"], kind=\"bar\")"
      ],
      "metadata": {
        "id": "N_PvZiwvD8bD",
        "outputId": "09bb0d99-c4ad-406e-f2f4-237b74194141",
        "colab": {
          "base_uri": "https://localhost:8080/",
          "height": 446
        }
      },
      "execution_count": 36,
      "outputs": [
        {
          "output_type": "execute_result",
          "data": {
            "text/plain": [
              "<Axes: >"
            ]
          },
          "metadata": {},
          "execution_count": 36
        },
        {
          "output_type": "display_data",
          "data": {
            "text/plain": [
              "<Figure size 640x480 with 1 Axes>"
            ],
            "image/png": "[encoded data removed]"
          },
          "metadata": {}
        }
      ]
    },
    {
      "cell_type": "markdown",
      "source": [
        "**Conclusion: Here, we can see that the model based on RFE is giving the best result for each fold and students are encouraged to try more feature selection techniques and fine tune to get the best results."
      ],
      "metadata": {
        "id": "-2eYEIVcEPhG"
      }
    }
  ]
}